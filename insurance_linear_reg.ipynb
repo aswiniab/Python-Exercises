{
  "nbformat": 4,
  "nbformat_minor": 0,
  "metadata": {
    "kernelspec": {
      "display_name": "Python 3",
      "language": "python",
      "name": "python3"
    },
    "language_info": {
      "codemirror_mode": {
        "name": "ipython",
        "version": 3
      },
      "file_extension": ".py",
      "mimetype": "text/x-python",
      "name": "python",
      "nbconvert_exporter": "python",
      "pygments_lexer": "ipython3",
      "version": "3.9.1"
    },
    "colab": {
      "name": "02-insurance-linear.ipynb",
      "provenance": []
    }
  },
  "cells": [
    {
      "cell_type": "code",
      "metadata": {
        "colab": {
          "base_uri": "https://localhost:8080/"
        },
        "id": "OaXWiM4p_haF",
        "outputId": "90b4217f-28fb-4b0e-a169-ec9265a70766"
      },
      "source": [
        "# Jovian Commit Essentials\n",
        "# Please retain and execute this cell without modifying the contents for `jovian.commit` to work\n",
        "!pip install jovian --upgrade -q\n",
        "import jovian\n",
        "jovian.set_project('02-insurance-linear-regression')\n",
        "jovian.set_colab_id('1sklFpOe7bCQGYe06FqPN0tHfDsfFzw_u')"
      ],
      "execution_count": 1,
      "outputs": [
        {
          "output_type": "stream",
          "text": [
            "\u001b[?25l\r\u001b[K     |████▉                           | 10kB 15.4MB/s eta 0:00:01\r\u001b[K     |█████████▊                      | 20kB 12.5MB/s eta 0:00:01\r\u001b[K     |██████████████▌                 | 30kB 8.5MB/s eta 0:00:01\r\u001b[K     |███████████████████▍            | 40kB 8.0MB/s eta 0:00:01\r\u001b[K     |████████████████████████▏       | 51kB 4.4MB/s eta 0:00:01\r\u001b[K     |█████████████████████████████   | 61kB 5.2MB/s eta 0:00:01\r\u001b[K     |████████████████████████████████| 71kB 3.4MB/s \n",
            "\u001b[?25h  Building wheel for uuid (setup.py) ... \u001b[?25l\u001b[?25hdone\n"
          ],
          "name": "stdout"
        }
      ]
    },
    {
      "cell_type": "markdown",
      "metadata": {
        "_cell_guid": "b1076dfc-b9ad-4769-8c92-a6c4dae69d19",
        "_uuid": "8f2839f25d086af736a60e9eeb907d3b93b6e0e5",
        "id": "2ilIBzGY_haW"
      },
      "source": [
        "# Insurance cost prediction using linear regression\n",
        "\n",
        "In this project we're going to use information like a person's age, sex, BMI, no. of children and smoking habit to predict the price of yearly medical bills. This kind of model is useful for insurance companies to determine the yearly insurance premium for a person. The dataset for this problem is taken from [Kaggle](https://www.kaggle.com/mirichoi0218/insurance).\n",
        "\n",
        "\n",
        "We will create a model with the following steps:\n",
        "1. Download and explore the dataset\n",
        "2. Prepare the dataset for training\n",
        "3. Create a linear regression model\n",
        "4. Train the model to fit the data\n",
        "5. Make predictions using the trained model"
      ]
    },
    {
      "cell_type": "code",
      "metadata": {
        "id": "YhURmZEN_haX"
      },
      "source": [
        "!pip install numpy seaborn matplotlib pandas torch torchvision torchaudio --quiet"
      ],
      "execution_count": null,
      "outputs": []
    },
    {
      "cell_type": "code",
      "metadata": {
        "id": "dH70j19A_haX"
      },
      "source": [
        "!pip install jovian --upgrade --quiet"
      ],
      "execution_count": null,
      "outputs": []
    },
    {
      "cell_type": "code",
      "metadata": {
        "id": "GWC9MA-U_haY"
      },
      "source": [
        "import torch\n",
        "import jovian\n",
        "import torchvision\n",
        "import torch.nn as nn\n",
        "import pandas as pd\n",
        "import matplotlib.pyplot as plt\n",
        "import torchvision.transforms as transforms\n",
        "import torch.nn.functional as F\n",
        "from torchvision.datasets.utils import download_url\n",
        "from torch.utils.data import DataLoader, TensorDataset, random_split"
      ],
      "execution_count": null,
      "outputs": []
    },
    {
      "cell_type": "code",
      "metadata": {
        "id": "OP52l0oy_haa"
      },
      "source": [
        "project_name='02-insurance-linear-regression'"
      ],
      "execution_count": 3,
      "outputs": []
    },
    {
      "cell_type": "markdown",
      "metadata": {
        "id": "yHB5kL7N_hab"
      },
      "source": [
        "## Step 1: Download and explore the data\n",
        "\n",
        "Let us begin by downloading the data. We'll use the `download_url` function from PyTorch to get the data as a CSV (comma-separated values) file. "
      ]
    },
    {
      "cell_type": "code",
      "metadata": {
        "_cell_guid": "79c7e3d0-c299-4dcb-8224-4455121ee9b0",
        "_uuid": "d629ff2d2480ee46fbb7e2d37f6b5fab8052498a",
        "id": "w7lNsEyF_hac",
        "outputId": "4b68e4da-fe0f-4835-e0de-5cb010556223"
      },
      "source": [
        "DATASET_URL = \"https://hub.jovian.ml/wp-content/uploads/2020/05/insurance.csv\"\n",
        "DATA_FILENAME = \"insurance.csv\"\n",
        "download_url(DATASET_URL, '.')"
      ],
      "execution_count": null,
      "outputs": [
        {
          "output_type": "stream",
          "text": [
            "Using downloaded and verified file: ./insurance.csv\n"
          ],
          "name": "stdout"
        }
      ]
    },
    {
      "cell_type": "markdown",
      "metadata": {
        "id": "M5bAtG-E_hae"
      },
      "source": [
        "To load the dataset into memory, we'll use the `read_csv` function from the `pandas` library. The data will be loaded as a Pandas dataframe. See this short tutorial to learn more: https://data36.com/pandas-tutorial-1-basics-reading-data-files-dataframes-data-selection/"
      ]
    },
    {
      "cell_type": "code",
      "metadata": {
        "id": "YiH4eH9x_hae",
        "outputId": "fd550d12-84fd-4bed-c99a-71c3f9e2eca4"
      },
      "source": [
        "dataframe_raw = pd.read_csv(DATA_FILENAME)\n",
        "dataframe_raw.head()"
      ],
      "execution_count": null,
      "outputs": [
        {
          "output_type": "execute_result",
          "data": {
            "text/html": [
              "<div>\n",
              "<style scoped>\n",
              "    .dataframe tbody tr th:only-of-type {\n",
              "        vertical-align: middle;\n",
              "    }\n",
              "\n",
              "    .dataframe tbody tr th {\n",
              "        vertical-align: top;\n",
              "    }\n",
              "\n",
              "    .dataframe thead th {\n",
              "        text-align: right;\n",
              "    }\n",
              "</style>\n",
              "<table border=\"1\" class=\"dataframe\">\n",
              "  <thead>\n",
              "    <tr style=\"text-align: right;\">\n",
              "      <th></th>\n",
              "      <th>age</th>\n",
              "      <th>sex</th>\n",
              "      <th>bmi</th>\n",
              "      <th>children</th>\n",
              "      <th>smoker</th>\n",
              "      <th>region</th>\n",
              "      <th>charges</th>\n",
              "    </tr>\n",
              "  </thead>\n",
              "  <tbody>\n",
              "    <tr>\n",
              "      <th>0</th>\n",
              "      <td>19</td>\n",
              "      <td>female</td>\n",
              "      <td>27.900</td>\n",
              "      <td>0</td>\n",
              "      <td>yes</td>\n",
              "      <td>southwest</td>\n",
              "      <td>16884.92400</td>\n",
              "    </tr>\n",
              "    <tr>\n",
              "      <th>1</th>\n",
              "      <td>18</td>\n",
              "      <td>male</td>\n",
              "      <td>33.770</td>\n",
              "      <td>1</td>\n",
              "      <td>no</td>\n",
              "      <td>southeast</td>\n",
              "      <td>1725.55230</td>\n",
              "    </tr>\n",
              "    <tr>\n",
              "      <th>2</th>\n",
              "      <td>28</td>\n",
              "      <td>male</td>\n",
              "      <td>33.000</td>\n",
              "      <td>3</td>\n",
              "      <td>no</td>\n",
              "      <td>southeast</td>\n",
              "      <td>4449.46200</td>\n",
              "    </tr>\n",
              "    <tr>\n",
              "      <th>3</th>\n",
              "      <td>33</td>\n",
              "      <td>male</td>\n",
              "      <td>22.705</td>\n",
              "      <td>0</td>\n",
              "      <td>no</td>\n",
              "      <td>northwest</td>\n",
              "      <td>21984.47061</td>\n",
              "    </tr>\n",
              "    <tr>\n",
              "      <th>4</th>\n",
              "      <td>32</td>\n",
              "      <td>male</td>\n",
              "      <td>28.880</td>\n",
              "      <td>0</td>\n",
              "      <td>no</td>\n",
              "      <td>northwest</td>\n",
              "      <td>3866.85520</td>\n",
              "    </tr>\n",
              "  </tbody>\n",
              "</table>\n",
              "</div>"
            ],
            "text/plain": [
              "   age     sex     bmi  children smoker     region      charges\n",
              "0   19  female  27.900         0    yes  southwest  16884.92400\n",
              "1   18    male  33.770         1     no  southeast   1725.55230\n",
              "2   28    male  33.000         3     no  southeast   4449.46200\n",
              "3   33    male  22.705         0     no  northwest  21984.47061\n",
              "4   32    male  28.880         0     no  northwest   3866.85520"
            ]
          },
          "metadata": {
            "tags": []
          },
          "execution_count": 21
        }
      ]
    },
    {
      "cell_type": "markdown",
      "metadata": {
        "id": "I3pDcWd4_haf"
      },
      "source": [
        "We're going to do a slight customization of the data, so that you every participant receives a slightly different version of the dataset. Fill in your name below as a string (enter at least 5 characters)"
      ]
    },
    {
      "cell_type": "code",
      "metadata": {
        "id": "xMCvMCwt_hag"
      },
      "source": [
        "your_name = 'aswini' # at least 5 characters"
      ],
      "execution_count": null,
      "outputs": []
    },
    {
      "cell_type": "markdown",
      "metadata": {
        "id": "yNVeJP8b_hah"
      },
      "source": [
        "The `customize_dataset` function will customize the dataset slightly using your name as a source of random numbers."
      ]
    },
    {
      "cell_type": "code",
      "metadata": {
        "id": "5dCZZCpe_hai"
      },
      "source": [
        "def customize_dataset(dataframe_raw, rand_str):\n",
        "    dataframe = dataframe_raw.copy(deep=True)\n",
        "    # drop some rows\n",
        "    dataframe = dataframe.sample(int(0.95*len(dataframe)), random_state=int(ord(rand_str[0])))\n",
        "    # scale input\n",
        "    dataframe.bmi = dataframe.bmi * ord(rand_str[1])/100.\n",
        "    # scale target\n",
        "    dataframe.charges = dataframe.charges * ord(rand_str[2])/100.\n",
        "    # drop column\n",
        "    if ord(rand_str[3]) % 2 == 1:\n",
        "        dataframe = dataframe.drop(['region'], axis=1)\n",
        "    return dataframe"
      ],
      "execution_count": null,
      "outputs": []
    },
    {
      "cell_type": "code",
      "metadata": {
        "id": "ZQS805T6_hai",
        "outputId": "5721bd44-64a7-4d60-e56d-280e90f94f07"
      },
      "source": [
        "dataframe = customize_dataset(dataframe_raw, your_name)\n",
        "dataframe.head()"
      ],
      "execution_count": null,
      "outputs": [
        {
          "output_type": "execute_result",
          "data": {
            "text/html": [
              "<div>\n",
              "<style scoped>\n",
              "    .dataframe tbody tr th:only-of-type {\n",
              "        vertical-align: middle;\n",
              "    }\n",
              "\n",
              "    .dataframe tbody tr th {\n",
              "        vertical-align: top;\n",
              "    }\n",
              "\n",
              "    .dataframe thead th {\n",
              "        text-align: right;\n",
              "    }\n",
              "</style>\n",
              "<table border=\"1\" class=\"dataframe\">\n",
              "  <thead>\n",
              "    <tr style=\"text-align: right;\">\n",
              "      <th></th>\n",
              "      <th>age</th>\n",
              "      <th>sex</th>\n",
              "      <th>bmi</th>\n",
              "      <th>children</th>\n",
              "      <th>smoker</th>\n",
              "      <th>charges</th>\n",
              "    </tr>\n",
              "  </thead>\n",
              "  <tbody>\n",
              "    <tr>\n",
              "      <th>27</th>\n",
              "      <td>55</td>\n",
              "      <td>female</td>\n",
              "      <td>37.69125</td>\n",
              "      <td>2</td>\n",
              "      <td>no</td>\n",
              "      <td>14599.672378</td>\n",
              "    </tr>\n",
              "    <tr>\n",
              "      <th>997</th>\n",
              "      <td>63</td>\n",
              "      <td>female</td>\n",
              "      <td>42.37750</td>\n",
              "      <td>0</td>\n",
              "      <td>no</td>\n",
              "      <td>16526.682515</td>\n",
              "    </tr>\n",
              "    <tr>\n",
              "      <th>162</th>\n",
              "      <td>54</td>\n",
              "      <td>male</td>\n",
              "      <td>45.54000</td>\n",
              "      <td>1</td>\n",
              "      <td>no</td>\n",
              "      <td>12436.156880</td>\n",
              "    </tr>\n",
              "    <tr>\n",
              "      <th>824</th>\n",
              "      <td>60</td>\n",
              "      <td>male</td>\n",
              "      <td>27.96800</td>\n",
              "      <td>0</td>\n",
              "      <td>no</td>\n",
              "      <td>14903.089712</td>\n",
              "    </tr>\n",
              "    <tr>\n",
              "      <th>392</th>\n",
              "      <td>48</td>\n",
              "      <td>male</td>\n",
              "      <td>36.16175</td>\n",
              "      <td>1</td>\n",
              "      <td>no</td>\n",
              "      <td>10667.232055</td>\n",
              "    </tr>\n",
              "  </tbody>\n",
              "</table>\n",
              "</div>"
            ],
            "text/plain": [
              "     age     sex       bmi  children smoker       charges\n",
              "27    55  female  37.69125         2     no  14599.672378\n",
              "997   63  female  42.37750         0     no  16526.682515\n",
              "162   54    male  45.54000         1     no  12436.156880\n",
              "824   60    male  27.96800         0     no  14903.089712\n",
              "392   48    male  36.16175         1     no  10667.232055"
            ]
          },
          "metadata": {
            "tags": []
          },
          "execution_count": 24
        }
      ]
    },
    {
      "cell_type": "markdown",
      "metadata": {
        "id": "4_K94x7L_haj"
      },
      "source": [
        "Let us explore the dataset. \n",
        "\n",
        "\n",
        "No. of observations in the dataset:"
      ]
    },
    {
      "cell_type": "code",
      "metadata": {
        "id": "oTYrxyBO_hak",
        "outputId": "b2e12eee-d5df-41c3-cf9f-b6162f7b6b3b"
      },
      "source": [
        "num_rows = len(dataframe)\n",
        "print(num_rows)"
      ],
      "execution_count": null,
      "outputs": [
        {
          "output_type": "stream",
          "text": [
            "1271\n"
          ],
          "name": "stdout"
        }
      ]
    },
    {
      "cell_type": "markdown",
      "metadata": {
        "id": "RD4_UxZm_hal"
      },
      "source": [
        "No. of variables in the dataset:"
      ]
    },
    {
      "cell_type": "code",
      "metadata": {
        "id": "L9FkYPZE_ham",
        "outputId": "55d8791c-e061-49bc-c8d2-e13fc8eac0bd"
      },
      "source": [
        "num_cols = len(dataframe.columns)\n",
        "print(num_cols)"
      ],
      "execution_count": null,
      "outputs": [
        {
          "output_type": "stream",
          "text": [
            "6\n"
          ],
          "name": "stdout"
        }
      ]
    },
    {
      "cell_type": "markdown",
      "metadata": {
        "id": "X_VhPePF_ham"
      },
      "source": [
        "Input variables:"
      ]
    },
    {
      "cell_type": "code",
      "metadata": {
        "id": "jYEuatVE_han",
        "outputId": "83063f79-2436-47fa-e6b0-5573c1c1610c"
      },
      "source": [
        "input_df= dataframe[dataframe.columns[:-1]]\n",
        "#input_cols.head()\n",
        "input_cols = []\n",
        "for col in input_df.columns: \n",
        "     input_cols.append(col) \n",
        "list(input_cols)\n"
      ],
      "execution_count": null,
      "outputs": [
        {
          "output_type": "execute_result",
          "data": {
            "text/plain": [
              "['age', 'sex', 'bmi', 'children', 'smoker']"
            ]
          },
          "metadata": {
            "tags": []
          },
          "execution_count": 27
        }
      ]
    },
    {
      "cell_type": "markdown",
      "metadata": {
        "id": "kAoFVC8W_hao"
      },
      "source": [
        "Categorial variables:"
      ]
    },
    {
      "cell_type": "code",
      "metadata": {
        "id": "3IU84-7w_hap",
        "outputId": "295937e7-d782-4784-92d5-87f67976005c"
      },
      "source": [
        "#categorical_cols = input_cols.copy(deep=True)\n",
        "#for cols in categorical_cols.columns:\n",
        "#    if categorical_cols[cols].dtype !='O':\n",
        "#        categorical_cols=categorical_cols.drop([cols], axis=1)\n",
        "#categorical_cols.head()\n",
        "\n",
        "categorical_cols =[]\n",
        "for cols in input_df.columns:\n",
        "    if input_df[cols].dtype =='O':\n",
        "        categorical_cols.append(cols)\n",
        "list(categorical_cols)        "
      ],
      "execution_count": null,
      "outputs": [
        {
          "output_type": "execute_result",
          "data": {
            "text/plain": [
              "['sex', 'smoker']"
            ]
          },
          "metadata": {
            "tags": []
          },
          "execution_count": 28
        }
      ]
    },
    {
      "cell_type": "markdown",
      "metadata": {
        "id": "szTxW4Y2_haq"
      },
      "source": [
        "Column titles of target variables:"
      ]
    },
    {
      "cell_type": "code",
      "metadata": {
        "id": "AuGXUxle_har",
        "outputId": "b96472c2-c3b2-4b7b-e045-abfbe01e8aa9"
      },
      "source": [
        "#output_cols=dataframe[dataframe.columns[-1]]\n",
        "#output_cols=output_cols.to_frame()\n",
        "#output_cols.head()\n",
        "\n",
        "output_cols= [dataframe.columns[-1]]\n",
        "output_cols"
      ],
      "execution_count": null,
      "outputs": [
        {
          "output_type": "execute_result",
          "data": {
            "text/plain": [
              "['charges']"
            ]
          },
          "metadata": {
            "tags": []
          },
          "execution_count": 181
        }
      ]
    },
    {
      "cell_type": "markdown",
      "metadata": {
        "id": "htLYf1uq_has"
      },
      "source": [
        "Minimum, maximum and average value of the `charges` column:"
      ]
    },
    {
      "cell_type": "code",
      "metadata": {
        "id": "f3PI-5bK_hat",
        "outputId": "2756bfd5-3ba9-4e82-cf55-e9b2c7add1a9"
      },
      "source": [
        "target_describe=dataframe[output_cols].describe()\n",
        "target_describe"
      ],
      "execution_count": null,
      "outputs": [
        {
          "output_type": "execute_result",
          "data": {
            "text/html": [
              "<div>\n",
              "<style scoped>\n",
              "    .dataframe tbody tr th:only-of-type {\n",
              "        vertical-align: middle;\n",
              "    }\n",
              "\n",
              "    .dataframe tbody tr th {\n",
              "        vertical-align: top;\n",
              "    }\n",
              "\n",
              "    .dataframe thead th {\n",
              "        text-align: right;\n",
              "    }\n",
              "</style>\n",
              "<table border=\"1\" class=\"dataframe\">\n",
              "  <thead>\n",
              "    <tr style=\"text-align: right;\">\n",
              "      <th></th>\n",
              "      <th>charges</th>\n",
              "    </tr>\n",
              "  </thead>\n",
              "  <tbody>\n",
              "    <tr>\n",
              "      <th>count</th>\n",
              "      <td>1271.000000</td>\n",
              "    </tr>\n",
              "    <tr>\n",
              "      <th>mean</th>\n",
              "      <td>15843.892414</td>\n",
              "    </tr>\n",
              "    <tr>\n",
              "      <th>std</th>\n",
              "      <td>14481.746424</td>\n",
              "    </tr>\n",
              "    <tr>\n",
              "      <th>min</th>\n",
              "      <td>1335.029941</td>\n",
              "    </tr>\n",
              "    <tr>\n",
              "      <th>25%</th>\n",
              "      <td>5655.300546</td>\n",
              "    </tr>\n",
              "    <tr>\n",
              "      <th>50%</th>\n",
              "      <td>11175.701740</td>\n",
              "    </tr>\n",
              "    <tr>\n",
              "      <th>75%</th>\n",
              "      <td>19579.428517</td>\n",
              "    </tr>\n",
              "    <tr>\n",
              "      <th>max</th>\n",
              "      <td>75886.809332</td>\n",
              "    </tr>\n",
              "  </tbody>\n",
              "</table>\n",
              "</div>"
            ],
            "text/plain": [
              "            charges\n",
              "count   1271.000000\n",
              "mean   15843.892414\n",
              "std    14481.746424\n",
              "min     1335.029941\n",
              "25%     5655.300546\n",
              "50%    11175.701740\n",
              "75%    19579.428517\n",
              "max    75886.809332"
            ]
          },
          "metadata": {
            "tags": []
          },
          "execution_count": 182
        }
      ]
    },
    {
      "cell_type": "code",
      "metadata": {
        "id": "aBEuFXxS_hau",
        "outputId": "cb1f1baa-d453-48e3-b9c8-b6a66364d300"
      },
      "source": [
        "print('Min '+ str(target_describe.loc['min','charges'])+ '\\nMax ' +str(target_describe.loc['max','charges'])+\n",
        "     '\\nAverage ' + str(target_describe.loc['mean','charges']));"
      ],
      "execution_count": null,
      "outputs": [
        {
          "output_type": "stream",
          "text": [
            "Min 1335.029941\n",
            "Max 75886.8093319\n",
            "Average 15843.892413833843\n"
          ],
          "name": "stdout"
        }
      ]
    },
    {
      "cell_type": "code",
      "metadata": {
        "id": "NHuCAZ7l_hau",
        "outputId": "944dff96-5ce1-48df-d9c7-2cc337b4b83e"
      },
      "source": [
        "import seaborn as sns\n",
        "# Configuring styles\n",
        "sns.set_style(\"darkgrid\")\n",
        "plt.rcParams['font.size'] = 14\n",
        "plt.rcParams['figure.figsize'] = (9, 5)\n",
        "plt.rcParams['figure.facecolor'] = '#00000000'\n",
        "plt.title(\"Distribution of Insurance charges\")\n",
        "plt.hist(dataframe[output_cols]);"
      ],
      "execution_count": null,
      "outputs": [
        {
          "output_type": "display_data",
          "data": {
            "image/png": "[encoded data removed]",
            "text/plain": [
              "<Figure size 648x360 with 1 Axes>"
            ]
          },
          "metadata": {
            "tags": [],
            "needs_background": "light"
          }
        }
      ]
    },
    {
      "cell_type": "code",
      "metadata": {
        "id": "0m3-xDqR_hax"
      },
      "source": [
        "!pip install jovian --upgrade -q"
      ],
      "execution_count": null,
      "outputs": []
    },
    {
      "cell_type": "code",
      "metadata": {
        "id": "7ogmoQCs_hax"
      },
      "source": [
        "import jovian"
      ],
      "execution_count": null,
      "outputs": []
    },
    {
      "cell_type": "code",
      "metadata": {
        "id": "56Du5sM9_hay",
        "outputId": "ec1e4fff-5dce-4b8b-f318-ad64d1650e00"
      },
      "source": [
        "jovian.commit()"
      ],
      "execution_count": null,
      "outputs": [
        {
          "output_type": "display_data",
          "data": {
            "application/javascript": [
              "window.require && require([\"base/js/namespace\"],function(Jupyter){Jupyter.notebook.save_checkpoint()})"
            ],
            "text/plain": [
              "<IPython.core.display.Javascript object>"
            ]
          },
          "metadata": {
            "tags": []
          }
        },
        {
          "output_type": "stream",
          "text": [
            "[jovian] Attempting to save notebook..\u001b[0m\n",
            "[jovian] Updating notebook \"aswiniabraham/02-insurance-linear-regression\" on https://jovian.ai/\u001b[0m\n",
            "[jovian] Uploading notebook..\u001b[0m\n",
            "[jovian] Capturing environment..\u001b[0m\n",
            "[jovian] Committed successfully! https://jovian.ai/aswiniabraham/02-insurance-linear-regression\u001b[0m\n"
          ],
          "name": "stdout"
        },
        {
          "output_type": "execute_result",
          "data": {
            "text/plain": [
              "'https://jovian.ai/aswiniabraham/02-insurance-linear-regression'"
            ]
          },
          "metadata": {
            "tags": []
          },
          "execution_count": 39
        }
      ]
    },
    {
      "cell_type": "markdown",
      "metadata": {
        "id": "F_2wn5mX_haz"
      },
      "source": [
        "## Step 2: Prepare the dataset for training\n",
        "\n",
        "We need to convert the data from the Pandas dataframe into a PyTorch tensors for training. To do this, the first step is to convert it numpy arrays. If you've filled out `input_cols`, `categorial_cols` and `output_cols` correctly, this following function will perform the conversion to numpy arrays."
      ]
    },
    {
      "cell_type": "code",
      "metadata": {
        "id": "9Tqey1kU_ha3"
      },
      "source": [
        "def dataframe_to_arrays(dataframe):\n",
        "    # Make a copy of the original dataframe\n",
        "    dataframe1 = dataframe.copy(deep=True)\n",
        "    # Convert non-numeric categorical columns to numbers\n",
        "    for col in categorical_cols:\n",
        "        dataframe1[col] = dataframe1[col].astype('category').cat.codes\n",
        "    # Extract input & outupts as numpy arrays\n",
        "    inputs_array = dataframe1[input_cols].to_numpy()\n",
        "    targets_array = dataframe1[output_cols].to_numpy()\n",
        "    return inputs_array, targets_array"
      ],
      "execution_count": null,
      "outputs": []
    },
    {
      "cell_type": "code",
      "metadata": {
        "id": "FwjqeCnT_ha4"
      },
      "source": [
        "s = pd.Series([\"a\", \"b\", \"c\", \"a\"], dtype=\"category\")"
      ],
      "execution_count": null,
      "outputs": []
    },
    {
      "cell_type": "code",
      "metadata": {
        "id": "PQanHxOS_ha6",
        "outputId": "9b7d79f9-de57-420a-cdda-00f29ede03be"
      },
      "source": [
        "s.cat.categories"
      ],
      "execution_count": null,
      "outputs": [
        {
          "output_type": "execute_result",
          "data": {
            "text/plain": [
              "Index(['a', 'b', 'c'], dtype='object')"
            ]
          },
          "metadata": {
            "tags": []
          },
          "execution_count": 186
        }
      ]
    },
    {
      "cell_type": "code",
      "metadata": {
        "id": "WBq-f78n_ha7",
        "outputId": "65ddd00a-cb1d-40ea-cee7-0176fd11644f"
      },
      "source": [
        "s.cat"
      ],
      "execution_count": null,
      "outputs": [
        {
          "output_type": "execute_result",
          "data": {
            "text/plain": [
              "<pandas.core.arrays.categorical.CategoricalAccessor object at 0x144d5a460>"
            ]
          },
          "metadata": {
            "tags": []
          },
          "execution_count": 187
        }
      ]
    },
    {
      "cell_type": "code",
      "metadata": {
        "id": "xbwrlSnz_ha8",
        "outputId": "aee09031-de0b-4a14-8d5d-6b47f741265e"
      },
      "source": [
        "s.cat.codes"
      ],
      "execution_count": null,
      "outputs": [
        {
          "output_type": "execute_result",
          "data": {
            "text/plain": [
              "0    0\n",
              "1    1\n",
              "2    2\n",
              "3    0\n",
              "dtype: int8"
            ]
          },
          "metadata": {
            "tags": []
          },
          "execution_count": 188
        }
      ]
    },
    {
      "cell_type": "markdown",
      "metadata": {
        "id": "wZnhaxUC_ha9"
      },
      "source": [
        "Read through the [Pandas documentation](https://pandas.pydata.org/pandas-docs/stable/user_guide/categorical.html) to understand how we're converting categorical variables into numbers."
      ]
    },
    {
      "cell_type": "code",
      "metadata": {
        "id": "btaUeI0R_ha9",
        "outputId": "315e954d-f604-4b13-be98-ba27e9e09a11"
      },
      "source": [
        "inputs_array, targets_array = dataframe_to_arrays(dataframe)\n",
        "inputs_array, targets_array"
      ],
      "execution_count": null,
      "outputs": [
        {
          "output_type": "execute_result",
          "data": {
            "text/plain": [
              "(array([[55.     ,  0.     , 37.69125,  2.     ,  0.     ],\n",
              "        [63.     ,  0.     , 42.3775 ,  0.     ,  0.     ],\n",
              "        [54.     ,  1.     , 45.54   ,  1.     ,  0.     ],\n",
              "        ...,\n",
              "        [58.     ,  1.     , 36.8115 ,  1.     ,  0.     ],\n",
              "        [32.     ,  0.     , 50.853  ,  0.     ,  0.     ],\n",
              "        [35.     ,  1.     , 20.539  ,  1.     ,  0.     ]]),\n",
              " array([[14599.6723775],\n",
              "        [16526.682515 ],\n",
              "        [12436.15688  ],\n",
              "        ...,\n",
              "        [14216.484821 ],\n",
              "        [ 4753.071582 ],\n",
              "        [ 6088.635476 ]]))"
            ]
          },
          "metadata": {
            "tags": []
          },
          "execution_count": 189
        }
      ]
    },
    {
      "cell_type": "markdown",
      "metadata": {
        "id": "L-9NC15r_ha-"
      },
      "source": [
        "**Q: Convert the numpy arrays `inputs_array` and `targets_array` into PyTorch tensors. Make sure that the data type is `torch.float32`.**"
      ]
    },
    {
      "cell_type": "code",
      "metadata": {
        "id": "jM6LjHqI_ha-"
      },
      "source": [
        "inputs = torch.from_numpy(inputs_array).float()\n",
        "targets = torch.from_numpy(targets_array).float()"
      ],
      "execution_count": null,
      "outputs": []
    },
    {
      "cell_type": "code",
      "metadata": {
        "id": "qdXjevQk_hbA",
        "outputId": "492ccd31-212b-4480-f768-6f69205d7fac"
      },
      "source": [
        "#inputs=inputs.to(dtype=torch.float32)\n",
        "#targets=targets.to(dtype=torch.float32)\n",
        "inputs.dtype, targets.dtype"
      ],
      "execution_count": null,
      "outputs": [
        {
          "output_type": "execute_result",
          "data": {
            "text/plain": [
              "(torch.float32, torch.float32)"
            ]
          },
          "metadata": {
            "tags": []
          },
          "execution_count": 191
        }
      ]
    },
    {
      "cell_type": "markdown",
      "metadata": {
        "id": "QFwd6tSI_hbC"
      },
      "source": [
        "Next, we need to create PyTorch datasets & data loaders for training & validation. We'll start by creating a `TensorDataset`."
      ]
    },
    {
      "cell_type": "code",
      "metadata": {
        "id": "KP-BIbWf_hbC",
        "outputId": "07c70486-7ca6-4070-82af-74c99c621130"
      },
      "source": [
        "dataset = TensorDataset(inputs, targets)\n",
        "len(dataset)"
      ],
      "execution_count": null,
      "outputs": [
        {
          "output_type": "execute_result",
          "data": {
            "text/plain": [
              "1271"
            ]
          },
          "metadata": {
            "tags": []
          },
          "execution_count": 192
        }
      ]
    },
    {
      "cell_type": "markdown",
      "metadata": {
        "id": "d93EBj4o_hbD"
      },
      "source": [
        "TensorDataset helps in wrapping the tensors into a dataset. [Source](https://pytorch.org/docs/stable/data.html). This helps to \n",
        "* Create a source dataset from your input data.\n",
        "* Apply dataset transformations to preprocess the data.\n",
        "* Iterate over the dataset and process the elements.\n",
        "[Source](https://www.tensorflow.org/api_docs/python/tf/data/Dataset)"
      ]
    },
    {
      "cell_type": "markdown",
      "metadata": {
        "id": "ln_WjzDa_hbD"
      },
      "source": [
        "**Q: Pick a number between `0.1` and `0.2` to determine the fraction of data that will be used for creating the validation set. Then use `random_split` to create training & validation datasets.**"
      ]
    },
    {
      "cell_type": "code",
      "metadata": {
        "id": "q5XgYZLF_hbE"
      },
      "source": [
        "val_percent = 0.2 # between 0.1 and 0.2\n",
        "val_size = int(num_rows * val_percent)\n",
        "train_size = num_rows - val_size\n",
        "train_ds, val_ds = random_split(dataset, [train_size, val_size]) # Use the random_split function to split dataset into 2 parts of the desired length"
      ],
      "execution_count": null,
      "outputs": []
    },
    {
      "cell_type": "markdown",
      "metadata": {
        "id": "hDBffwfL_hbE"
      },
      "source": [
        "Finally, we can create data loaders for training & validation.\n",
        "\n",
        "**Q: Pick a batch size for the data loader.**"
      ]
    },
    {
      "cell_type": "code",
      "metadata": {
        "id": "g8gv-gvQ_hbE"
      },
      "source": [
        "batch_size = 50"
      ],
      "execution_count": null,
      "outputs": []
    },
    {
      "cell_type": "code",
      "metadata": {
        "id": "ErAEt5t-_hbE"
      },
      "source": [
        "train_loader = DataLoader(train_ds, batch_size, shuffle=True)\n",
        "val_loader = DataLoader(val_ds, batch_size)"
      ],
      "execution_count": null,
      "outputs": []
    },
    {
      "cell_type": "markdown",
      "metadata": {
        "id": "wK6MfatB_hbF"
      },
      "source": [
        "Let's look at a batch of data to verify everything is working fine so far."
      ]
    },
    {
      "cell_type": "code",
      "metadata": {
        "id": "TVRw81vL_hbF",
        "outputId": "ced92fc4-2e6b-4359-96ad-6b5747f5c97a"
      },
      "source": [
        "for xb, yb in train_loader:\n",
        "    print(\"inputs:\", xb)\n",
        "    print(\"targets:\", yb)\n",
        "    break"
      ],
      "execution_count": null,
      "outputs": [
        {
          "output_type": "stream",
          "text": [
            "inputs: tensor([[55.0000,  0.0000, 40.4800,  0.0000,  1.0000],\n",
            "        [52.0000,  0.0000, 43.1538,  2.0000,  0.0000],\n",
            "        [21.0000,  0.0000, 37.5820,  2.0000,  0.0000],\n",
            "        [27.0000,  0.0000, 36.1100,  0.0000,  1.0000],\n",
            "        [40.0000,  1.0000, 35.5062,  4.0000,  0.0000],\n",
            "        [59.0000,  0.0000, 40.0200,  2.0000,  0.0000],\n",
            "        [59.0000,  1.0000, 33.1027,  0.0000,  0.0000],\n",
            "        [20.0000,  1.0000, 25.3000,  1.0000,  0.0000],\n",
            "        [56.0000,  0.0000, 48.1965,  0.0000,  0.0000],\n",
            "        [23.0000,  0.0000, 38.4100,  0.0000,  0.0000],\n",
            "        [38.0000,  0.0000, 31.3547,  1.0000,  0.0000],\n",
            "        [31.0000,  0.0000, 29.6700,  2.0000,  0.0000],\n",
            "        [49.0000,  1.0000, 36.0525,  1.0000,  0.0000],\n",
            "        [44.0000,  1.0000, 35.2935,  2.0000,  0.0000],\n",
            "        [24.0000,  0.0000, 23.5980,  0.0000,  1.0000],\n",
            "        [33.0000,  1.0000, 40.5317,  0.0000,  0.0000],\n",
            "        [41.0000,  1.0000, 46.2990,  0.0000,  0.0000],\n",
            "        [26.0000,  1.0000, 33.8675,  0.0000,  0.0000],\n",
            "        [44.0000,  0.0000, 37.1910,  1.0000,  0.0000],\n",
            "        [30.0000,  1.0000, 43.0445,  3.0000,  0.0000],\n",
            "        [45.0000,  0.0000, 35.0692,  1.0000,  1.0000],\n",
            "        [50.0000,  0.0000, 53.0035,  1.0000,  0.0000],\n",
            "        [19.0000,  1.0000, 33.4305,  0.0000,  1.0000],\n",
            "        [31.0000,  0.0000, 33.6490,  1.0000,  0.0000],\n",
            "        [25.0000,  0.0000, 25.8923,  1.0000,  0.0000],\n",
            "        [27.0000,  1.0000, 38.7090,  0.0000,  0.0000],\n",
            "        [29.0000,  1.0000, 34.0860,  1.0000,  0.0000],\n",
            "        [34.0000,  1.0000, 48.4495,  2.0000,  0.0000],\n",
            "        [51.0000,  1.0000, 38.3295,  3.0000,  0.0000],\n",
            "        [54.0000,  0.0000, 33.2120,  2.0000,  0.0000],\n",
            "        [56.0000,  1.0000, 39.5945,  0.0000,  0.0000],\n",
            "        [32.0000,  1.0000, 32.3380,  4.0000,  1.0000],\n",
            "        [55.0000,  1.0000, 44.0220,  0.0000,  0.0000],\n",
            "        [39.0000,  0.0000, 30.2623,  2.0000,  0.0000],\n",
            "        [37.0000,  0.0000, 30.3600,  0.0000,  1.0000],\n",
            "        [22.0000,  1.0000, 42.6305,  2.0000,  1.0000],\n",
            "        [54.0000,  1.0000, 45.5400,  1.0000,  0.0000],\n",
            "        [54.0000,  1.0000, 37.6912,  0.0000,  0.0000],\n",
            "        [28.0000,  1.0000, 27.9450,  5.0000,  0.0000],\n",
            "        [46.0000,  1.0000, 38.3467,  1.0000,  0.0000],\n",
            "        [53.0000,  0.0000, 43.0445,  1.0000,  0.0000],\n",
            "        [46.0000,  0.0000, 22.9425,  2.0000,  0.0000],\n",
            "        [39.0000,  1.0000, 28.1865,  2.0000,  0.0000],\n",
            "        [28.0000,  1.0000, 37.9500,  3.0000,  0.0000],\n",
            "        [41.0000,  1.0000, 33.1200,  1.0000,  0.0000],\n",
            "        [32.0000,  0.0000, 38.1283,  3.0000,  0.0000],\n",
            "        [34.0000,  1.0000, 29.0605,  1.0000,  0.0000],\n",
            "        [53.0000,  1.0000, 47.6905,  0.0000,  0.0000],\n",
            "        [53.0000,  1.0000, 33.9020,  0.0000,  0.0000],\n",
            "        [47.0000,  0.0000, 27.9680,  0.0000,  0.0000]])\n",
            "targets: tensor([[52864.3242],\n",
            "        [39831.6484],\n",
            "        [30962.5508],\n",
            "        [41458.2578],\n",
            "        [ 9713.6328],\n",
            "        [43923.6250],\n",
            "        [14434.2412],\n",
            "        [ 2338.0881],\n",
            "        [13201.4111],\n",
            "        [12847.1650],\n",
            "        [ 7800.5337],\n",
            "        [ 5872.2988],\n",
            "        [11055.2656],\n",
            "        [ 9200.3984],\n",
            "        [17340.5508],\n",
            "        [14761.8057],\n",
            "        [ 6793.9058],\n",
            "        [ 3447.8149],\n",
            "        [ 9084.1279],\n",
            "        [ 6460.1860],\n",
            "        [47273.3672],\n",
            "        [11363.9824],\n",
            "        [20649.6895],\n",
            "        [ 5177.1123],\n",
            "        [ 4277.0635],\n",
            "        [ 2973.1130],\n",
            "        [24130.5918],\n",
            "        [ 6097.7847],\n",
            "        [12566.9854],\n",
            "        [14395.0146],\n",
            "        [12607.1289],\n",
            "        [25552.2500],\n",
            "        [12169.2783],\n",
            "        [ 8570.0244],\n",
            "        [23251.6992],\n",
            "        [44606.4961],\n",
            "        [12436.1572],\n",
            "        [12417.7275],\n",
            "        [ 6682.2891],\n",
            "        [ 9918.0049],\n",
            "        [13042.0371],\n",
            "        [10940.6680],\n",
            "        [ 7985.1284],\n",
            "        [ 5294.8599],\n",
            "        [ 7475.8599],\n",
            "        [ 7293.2690],\n",
            "        [ 5824.7563],\n",
            "        [11310.1289],\n",
            "        [11290.2969],\n",
            "        [10156.2598]])\n"
          ],
          "name": "stdout"
        }
      ]
    },
    {
      "cell_type": "markdown",
      "metadata": {
        "id": "kPvJdfbv_hbF"
      },
      "source": [
        "Let's save our work by committing to Jovian."
      ]
    },
    {
      "cell_type": "code",
      "metadata": {
        "id": "U421lEmg_hbG",
        "outputId": "066fa9d3-5e0a-43d0-ca0e-e978a61a6eb7"
      },
      "source": [
        "jovian.commit(project='02-insurance-linear-regression', environment=None)"
      ],
      "execution_count": null,
      "outputs": [
        {
          "output_type": "display_data",
          "data": {
            "application/javascript": [
              "window.require && require([\"base/js/namespace\"],function(Jupyter){Jupyter.notebook.save_checkpoint()})"
            ],
            "text/plain": [
              "<IPython.core.display.Javascript object>"
            ]
          },
          "metadata": {
            "tags": []
          }
        },
        {
          "output_type": "stream",
          "text": [
            "[jovian] Attempting to save notebook..\u001b[0m\n"
          ],
          "name": "stdout"
        }
      ]
    },
    {
      "cell_type": "markdown",
      "metadata": {
        "id": "brpq-_VY_hbG"
      },
      "source": [
        "## Step 3: Create a Linear Regression Model\n",
        "\n",
        "Our model itself is a fairly straightforward linear regression (we'll build more complex models in the next assignment). \n"
      ]
    },
    {
      "cell_type": "code",
      "metadata": {
        "id": "bwaKfykt_hbG"
      },
      "source": [
        "input_size = len(input_cols)\n",
        "output_size = len(output_cols)"
      ],
      "execution_count": null,
      "outputs": []
    },
    {
      "cell_type": "markdown",
      "metadata": {
        "id": "9m34A5ZP_hbH"
      },
      "source": [
        "**Q: Complete the class definition below by filling out the constructor (`__init__`), `forward`, `training_step` and `validation_step` methods.**\n",
        "\n",
        "Hint: Think carefully about picking a good loss fuction (it's not cross entropy). Maybe try 2-3 of them and see which one works best. See https://pytorch.org/docs/stable/nn.functional.html#loss-functions"
      ]
    },
    {
      "cell_type": "code",
      "metadata": {
        "id": "RdkcmqfD_hbH"
      },
      "source": [
        "class InsuranceModel(nn.Module):\n",
        "    def __init__(self):\n",
        "        super().__init__()\n",
        "        self.linear = nn.Linear(input_size, output_size)                  # fill this (hint: use input_size & output_size defined above)\n",
        "        \n",
        "    def forward(self, xb):\n",
        "        out = self.linear(xb)                           # fill this\n",
        "        return out\n",
        "    \n",
        "    def training_step(self, batch):\n",
        "        inputs, targets = batch \n",
        "        # Generate predictions\n",
        "        out = self(inputs)          \n",
        "        # Calcuate loss\n",
        "        loss = F.l1_loss(out, targets)                          # fill this\n",
        "        return loss\n",
        "    \n",
        "    def validation_step(self, batch):\n",
        "        inputs, targets = batch\n",
        "        # Generate predictions\n",
        "        out = self(inputs)\n",
        "        # Calculate loss\n",
        "        loss = F.l1_loss(out, targets)                           # fill this    \n",
        "        return {'val_loss': loss.detach()}\n",
        "        \n",
        "    def validation_epoch_end(self, outputs):\n",
        "        batch_losses = [x['val_loss'] for x in outputs]\n",
        "        epoch_loss = torch.stack(batch_losses).mean()   # Combine losses\n",
        "        return {'val_loss': epoch_loss.item()}\n",
        "    \n",
        "    def epoch_end(self, epoch, result, num_epochs):\n",
        "        # Print result every 40th epoch\n",
        "        if (epoch+1) % 40 == 0 or epoch == num_epochs-1:\n",
        "            print(\"Epoch [{}], val_loss: {:.4f}\".format(epoch+1, result['val_loss']))"
      ],
      "execution_count": null,
      "outputs": []
    },
    {
      "cell_type": "markdown",
      "metadata": {
        "id": "_yDl5aem_hbI"
      },
      "source": [
        "Let us create a model using the `InsuranceModel` class. You may need to come back later and re-run the next cell to reinitialize the model, in case the loss becomes `nan` or `infinity`."
      ]
    },
    {
      "cell_type": "code",
      "metadata": {
        "id": "_Asp1qte_hbI"
      },
      "source": [
        "model = InsuranceModel()"
      ],
      "execution_count": null,
      "outputs": []
    },
    {
      "cell_type": "markdown",
      "metadata": {
        "id": "CY_LNvQv_hbJ"
      },
      "source": [
        "Let's check out the weights and biases of the model using `model.parameters`."
      ]
    },
    {
      "cell_type": "code",
      "metadata": {
        "id": "Gud45MHm_hbJ",
        "outputId": "bbb4edbd-e90c-438e-951d-2f92cb8a6ded"
      },
      "source": [
        "list(model.parameters())"
      ],
      "execution_count": null,
      "outputs": [
        {
          "output_type": "execute_result",
          "data": {
            "text/plain": [
              "[Parameter containing:\n",
              " tensor([[ 0.2282,  0.4011, -0.2064, -0.0902, -0.2324]], requires_grad=True),\n",
              " Parameter containing:\n",
              " tensor([-0.2319], requires_grad=True)]"
            ]
          },
          "metadata": {
            "tags": []
          },
          "execution_count": 246
        }
      ]
    },
    {
      "cell_type": "markdown",
      "metadata": {
        "id": "kVMRN0Ya_hbK"
      },
      "source": [
        "One final commit before we train the model."
      ]
    },
    {
      "cell_type": "code",
      "metadata": {
        "id": "L761__RQ_hbK",
        "outputId": "531a45ca-f4dc-46ba-e998-d73d829e3e21"
      },
      "source": [
        "jovian.commit(project=project_name, environment=None)"
      ],
      "execution_count": null,
      "outputs": [
        {
          "output_type": "display_data",
          "data": {
            "application/javascript": [
              "window.require && require([\"base/js/namespace\"],function(Jupyter){Jupyter.notebook.save_checkpoint()})"
            ],
            "text/plain": [
              "<IPython.core.display.Javascript object>"
            ]
          },
          "metadata": {
            "tags": []
          }
        },
        {
          "output_type": "stream",
          "text": [
            "[jovian] Attempting to save notebook..\u001b[0m\n",
            "[jovian] Updating notebook \"aswiniabraham/02-insurance-linear-regression\" on https://jovian.ai/\u001b[0m\n",
            "[jovian] Uploading notebook..\u001b[0m\n",
            "[jovian] Committed successfully! https://jovian.ai/aswiniabraham/02-insurance-linear-regression\u001b[0m\n"
          ],
          "name": "stdout"
        },
        {
          "output_type": "execute_result",
          "data": {
            "text/plain": [
              "'https://jovian.ai/aswiniabraham/02-insurance-linear-regression'"
            ]
          },
          "metadata": {
            "tags": []
          },
          "execution_count": 82
        }
      ]
    },
    {
      "cell_type": "markdown",
      "metadata": {
        "id": "6HLHr7B4_hbL"
      },
      "source": [
        "## Step 4: Train the model to fit the data\n",
        "\n",
        "To train our model, we'll use the same `fit` function explained in the lecture. That's the benefit of defining a generic training loop - you can use it for any problem."
      ]
    },
    {
      "cell_type": "code",
      "metadata": {
        "id": "oLPTZ5yA_hbL"
      },
      "source": [
        "def evaluate(model, val_loader):\n",
        "    outputs = [model.validation_step(batch) for batch in val_loader]\n",
        "    return model.validation_epoch_end(outputs)\n",
        "    \n",
        "def fit(epochs, lr, model, train_loader, val_loader, opt_func=torch.optim.SGD):\n",
        "    history = []\n",
        "    optimizer = opt_func(model.parameters(), lr)\n",
        "    for epoch in range(epochs):\n",
        "        # Training Phase \n",
        "        for batch in train_loader:\n",
        "            loss = model.training_step(batch)\n",
        "            loss.backward()\n",
        "            optimizer.step()\n",
        "            optimizer.zero_grad()\n",
        "        # Validation phase\n",
        "        result = evaluate(model, val_loader)\n",
        "        model.epoch_end(epoch, result, epochs)\n",
        "        history.append(result)\n",
        "    return history"
      ],
      "execution_count": null,
      "outputs": []
    },
    {
      "cell_type": "markdown",
      "metadata": {
        "id": "hYc0MGXn_hbM"
      },
      "source": [
        "**Use the `evaluate` function to calculate the loss on the validation set before training.**"
      ]
    },
    {
      "cell_type": "code",
      "metadata": {
        "id": "X1urKFi4_hbM",
        "outputId": "4de51e26-0d61-4468-b82c-380fa2f5fc1f"
      },
      "source": [
        "result = evaluate(model, val_loader) # Use the the evaluate function\n",
        "print(result)"
      ],
      "execution_count": null,
      "outputs": [
        {
          "output_type": "stream",
          "text": [
            "{'val_loss': 17257.974609375}\n"
          ],
          "name": "stdout"
        }
      ]
    },
    {
      "cell_type": "markdown",
      "metadata": {
        "id": "VaFPuYQV_hbM"
      },
      "source": [
        "\n",
        "We are now ready to train the model. You may need to run the training loop many times, for different number of epochs and with different learning rates, to get a good result. Also, if your loss becomes too large (or `nan`), you may have to re-initialize the model by running the cell `model = InsuranceModel()`. Experiment with this for a while, and try to get to as low a loss as possible."
      ]
    },
    {
      "cell_type": "markdown",
      "metadata": {
        "id": "dkSdxW_y_hbN"
      },
      "source": [
        "**Train the model with different learning rates & for different number of epochs.**\n",
        "\n",
        "Hint: Vary learning rates by orders of 10 (e.g. `1e-2`, `1e-3`, `1e-4`, `1e-5`, `1e-6`) to figure out what works."
      ]
    },
    {
      "cell_type": "code",
      "metadata": {
        "id": "_VAWLjjp_hbN",
        "outputId": "fba6ae7e-8c47-42a4-d474-91836e1b0f18"
      },
      "source": [
        "epochs = 1000\n",
        "lr = 1e-5\n",
        "history1 = fit(epochs, lr, model, train_loader, val_loader)"
      ],
      "execution_count": null,
      "outputs": [
        {
          "output_type": "stream",
          "text": [
            "Epoch [40], val_loss: 17234.7031\n",
            "Epoch [80], val_loss: 17211.4316\n",
            "Epoch [120], val_loss: 17188.1484\n",
            "Epoch [160], val_loss: 17164.8750\n",
            "Epoch [200], val_loss: 17141.5918\n",
            "Epoch [240], val_loss: 17118.3105\n",
            "Epoch [280], val_loss: 17095.0371\n",
            "Epoch [320], val_loss: 17071.7598\n",
            "Epoch [360], val_loss: 17048.4688\n",
            "Epoch [400], val_loss: 17025.1875\n",
            "Epoch [440], val_loss: 17001.9160\n",
            "Epoch [480], val_loss: 16978.6348\n",
            "Epoch [520], val_loss: 16955.3496\n",
            "Epoch [560], val_loss: 16932.0703\n",
            "Epoch [600], val_loss: 16908.7930\n",
            "Epoch [640], val_loss: 16885.5137\n",
            "Epoch [680], val_loss: 16862.2363\n",
            "Epoch [720], val_loss: 16838.9551\n",
            "Epoch [760], val_loss: 16815.6738\n",
            "Epoch [800], val_loss: 16792.3965\n",
            "Epoch [840], val_loss: 16769.1152\n",
            "Epoch [880], val_loss: 16745.8457\n",
            "Epoch [920], val_loss: 16722.5684\n",
            "Epoch [960], val_loss: 16699.2988\n",
            "Epoch [1000], val_loss: 16676.0176\n"
          ],
          "name": "stdout"
        }
      ]
    },
    {
      "cell_type": "code",
      "metadata": {
        "id": "gz8uPJSo_hbN",
        "outputId": "a68bb1a0-28a3-431e-9ae3-db6f15f47f59"
      },
      "source": [
        "epochs = 1000\n",
        "lr = 1e-3\n",
        "history2 = fit(epochs, lr, model, train_loader, val_loader)"
      ],
      "execution_count": null,
      "outputs": [
        {
          "output_type": "stream",
          "text": [
            "Epoch [40], val_loss: 14410.9531\n",
            "Epoch [80], val_loss: 12882.5752\n",
            "Epoch [120], val_loss: 11854.9648\n",
            "Epoch [160], val_loss: 11233.0781\n",
            "Epoch [200], val_loss: 10874.3555\n",
            "Epoch [240], val_loss: 10683.7285\n",
            "Epoch [280], val_loss: 10578.6221\n",
            "Epoch [320], val_loss: 10516.7451\n",
            "Epoch [360], val_loss: 10474.0898\n",
            "Epoch [400], val_loss: 10443.2188\n",
            "Epoch [440], val_loss: 10417.3877\n",
            "Epoch [480], val_loss: 10397.2588\n",
            "Epoch [520], val_loss: 10380.9707\n",
            "Epoch [560], val_loss: 10365.9893\n",
            "Epoch [600], val_loss: 10351.0586\n",
            "Epoch [640], val_loss: 10336.3604\n",
            "Epoch [680], val_loss: 10322.3945\n",
            "Epoch [720], val_loss: 10308.7344\n",
            "Epoch [760], val_loss: 10295.4082\n",
            "Epoch [800], val_loss: 10282.2568\n",
            "Epoch [840], val_loss: 10268.8994\n",
            "Epoch [880], val_loss: 10255.8135\n",
            "Epoch [920], val_loss: 10243.7021\n",
            "Epoch [960], val_loss: 10231.1602\n",
            "Epoch [1000], val_loss: 10218.0400\n"
          ],
          "name": "stdout"
        }
      ]
    },
    {
      "cell_type": "code",
      "metadata": {
        "id": "tfMQAcue_hbO",
        "outputId": "1d7ff40f-69e8-4cde-baf2-cad29335d3ae"
      },
      "source": [
        "epochs = 1000\n",
        "lr = 1e-2\n",
        "history3 = fit(epochs, lr, model, train_loader, val_loader)"
      ],
      "execution_count": null,
      "outputs": [
        {
          "output_type": "stream",
          "text": [
            "Epoch [40], val_loss: 10098.5674\n",
            "Epoch [80], val_loss: 9992.9619\n",
            "Epoch [120], val_loss: 9892.9277\n",
            "Epoch [160], val_loss: 9818.1064\n",
            "Epoch [200], val_loss: 9764.2549\n",
            "Epoch [240], val_loss: 9724.1494\n",
            "Epoch [280], val_loss: 9701.4209\n",
            "Epoch [320], val_loss: 9689.0654\n",
            "Epoch [360], val_loss: 9683.2578\n",
            "Epoch [400], val_loss: 9679.2725\n",
            "Epoch [440], val_loss: 9674.6719\n",
            "Epoch [480], val_loss: 9671.4688\n",
            "Epoch [520], val_loss: 9670.3223\n",
            "Epoch [560], val_loss: 9666.6787\n",
            "Epoch [600], val_loss: 9666.9053\n",
            "Epoch [640], val_loss: 9665.1885\n",
            "Epoch [680], val_loss: 9662.7080\n",
            "Epoch [720], val_loss: 9660.9502\n",
            "Epoch [760], val_loss: 9659.8350\n",
            "Epoch [800], val_loss: 9659.2705\n",
            "Epoch [840], val_loss: 9656.1523\n",
            "Epoch [880], val_loss: 9656.9600\n",
            "Epoch [920], val_loss: 9655.2803\n",
            "Epoch [960], val_loss: 9652.4014\n",
            "Epoch [1000], val_loss: 9653.4365\n"
          ],
          "name": "stdout"
        }
      ]
    },
    {
      "cell_type": "code",
      "metadata": {
        "id": "Gablxv28_hbO",
        "outputId": "a0e56fca-04c9-46f7-c10b-3d3069aae01d"
      },
      "source": [
        "epochs = 1000\n",
        "lr = 1e-1\n",
        "history4 = fit(epochs, lr, model, train_loader, val_loader)"
      ],
      "execution_count": null,
      "outputs": [
        {
          "output_type": "stream",
          "text": [
            "Epoch [40], val_loss: 9627.0469\n",
            "Epoch [80], val_loss: 9621.4932\n",
            "Epoch [120], val_loss: 9615.0410\n",
            "Epoch [160], val_loss: 9610.4756\n",
            "Epoch [200], val_loss: 9593.5068\n",
            "Epoch [240], val_loss: 9593.8662\n",
            "Epoch [280], val_loss: 9582.4209\n",
            "Epoch [320], val_loss: 9563.8955\n",
            "Epoch [360], val_loss: 9571.3105\n",
            "Epoch [400], val_loss: 9549.2451\n",
            "Epoch [440], val_loss: 9542.2686\n",
            "Epoch [480], val_loss: 9530.9697\n",
            "Epoch [520], val_loss: 9529.0322\n",
            "Epoch [560], val_loss: 9521.8779\n",
            "Epoch [600], val_loss: 9512.4678\n",
            "Epoch [640], val_loss: 9506.3564\n",
            "Epoch [680], val_loss: 9516.5801\n",
            "Epoch [720], val_loss: 9490.8838\n",
            "Epoch [760], val_loss: 9483.0850\n",
            "Epoch [800], val_loss: 9477.9873\n",
            "Epoch [840], val_loss: 9480.5400\n",
            "Epoch [880], val_loss: 9464.5850\n",
            "Epoch [920], val_loss: 9470.4648\n",
            "Epoch [960], val_loss: 9459.9277\n",
            "Epoch [1000], val_loss: 9447.1025\n"
          ],
          "name": "stdout"
        }
      ]
    },
    {
      "cell_type": "code",
      "metadata": {
        "id": "cuy5i9_c_hbP",
        "outputId": "c548d834-dd49-4d6b-94a5-f810edb6eaff"
      },
      "source": [
        "epochs = 1000\n",
        "lr = 1e-2\n",
        "history5 = fit(epochs, lr, model, train_loader, val_loader)"
      ],
      "execution_count": null,
      "outputs": [
        {
          "output_type": "stream",
          "text": [
            "Epoch [40], val_loss: 9449.1514\n",
            "Epoch [80], val_loss: 9448.1807\n",
            "Epoch [120], val_loss: 9446.8740\n",
            "Epoch [160], val_loss: 9447.2197\n",
            "Epoch [200], val_loss: 9446.5342\n",
            "Epoch [240], val_loss: 9445.5137\n",
            "Epoch [280], val_loss: 9445.2490\n",
            "Epoch [320], val_loss: 9444.5146\n",
            "Epoch [360], val_loss: 9444.6299\n",
            "Epoch [400], val_loss: 9444.2578\n",
            "Epoch [440], val_loss: 9442.7910\n",
            "Epoch [480], val_loss: 9442.1416\n",
            "Epoch [520], val_loss: 9442.2939\n",
            "Epoch [560], val_loss: 9440.8213\n",
            "Epoch [600], val_loss: 9440.4658\n",
            "Epoch [640], val_loss: 9439.9268\n",
            "Epoch [680], val_loss: 9439.8545\n",
            "Epoch [720], val_loss: 9438.6826\n",
            "Epoch [760], val_loss: 9438.7852\n",
            "Epoch [800], val_loss: 9438.2412\n",
            "Epoch [840], val_loss: 9437.1357\n",
            "Epoch [880], val_loss: 9436.8545\n",
            "Epoch [920], val_loss: 9435.0967\n",
            "Epoch [960], val_loss: 9435.2861\n",
            "Epoch [1000], val_loss: 9433.9023\n"
          ],
          "name": "stdout"
        }
      ]
    },
    {
      "cell_type": "code",
      "metadata": {
        "id": "hJuP3-Ig_hbP",
        "outputId": "57bf2996-b5a7-4848-9978-75ff86c216f7"
      },
      "source": [
        "epochs = 1000\n",
        "lr = 1e-3\n",
        "history6 = fit(epochs, lr, model, train_loader, val_loader)"
      ],
      "execution_count": null,
      "outputs": [
        {
          "output_type": "stream",
          "text": [
            "Epoch [40], val_loss: 9434.2842\n",
            "Epoch [80], val_loss: 9434.4229\n",
            "Epoch [120], val_loss: 9434.4736\n",
            "Epoch [160], val_loss: 9434.6689\n",
            "Epoch [200], val_loss: 9434.5713\n",
            "Epoch [240], val_loss: 9434.4502\n",
            "Epoch [280], val_loss: 9434.6494\n",
            "Epoch [320], val_loss: 9434.5068\n",
            "Epoch [360], val_loss: 9434.5049\n",
            "Epoch [400], val_loss: 9434.3877\n",
            "Epoch [440], val_loss: 9434.5117\n",
            "Epoch [480], val_loss: 9434.2793\n",
            "Epoch [520], val_loss: 9434.2783\n",
            "Epoch [560], val_loss: 9434.2686\n",
            "Epoch [600], val_loss: 9434.2002\n",
            "Epoch [640], val_loss: 9434.2275\n",
            "Epoch [680], val_loss: 9434.1768\n",
            "Epoch [720], val_loss: 9433.9854\n",
            "Epoch [760], val_loss: 9434.0625\n",
            "Epoch [800], val_loss: 9433.9180\n",
            "Epoch [840], val_loss: 9433.8564\n",
            "Epoch [880], val_loss: 9433.9072\n",
            "Epoch [920], val_loss: 9433.8184\n",
            "Epoch [960], val_loss: 9433.7148\n",
            "Epoch [1000], val_loss: 9433.7158\n"
          ],
          "name": "stdout"
        }
      ]
    },
    {
      "cell_type": "code",
      "metadata": {
        "scrolled": true,
        "id": "5scDoNE__hbQ",
        "outputId": "36e56ab3-c3bc-439d-826c-470542457b19"
      },
      "source": [
        "epochs =500 \n",
        "lr = 1e-2\n",
        "history7 = fit(epochs, lr, model, train_loader, val_loader)"
      ],
      "execution_count": null,
      "outputs": [
        {
          "output_type": "stream",
          "text": [
            "Epoch [40], val_loss: 9432.9756\n",
            "Epoch [80], val_loss: 9432.3096\n",
            "Epoch [120], val_loss: 9431.2109\n",
            "Epoch [160], val_loss: 9431.7451\n",
            "Epoch [200], val_loss: 9430.3486\n",
            "Epoch [240], val_loss: 9429.7070\n",
            "Epoch [280], val_loss: 9429.5596\n",
            "Epoch [320], val_loss: 9428.8877\n",
            "Epoch [360], val_loss: 9428.0283\n",
            "Epoch [400], val_loss: 9427.1553\n",
            "Epoch [440], val_loss: 9426.6426\n",
            "Epoch [480], val_loss: 9426.3262\n",
            "Epoch [500], val_loss: 9426.5693\n"
          ],
          "name": "stdout"
        }
      ]
    },
    {
      "cell_type": "code",
      "metadata": {
        "id": "K8VcHDqO_hbR",
        "outputId": "52a414fc-c576-46a6-ab99-2bfa9c090078"
      },
      "source": [
        "epochs =500 \n",
        "lr = 1e-1\n",
        "history8 = fit(epochs, lr, model, train_loader, val_loader)"
      ],
      "execution_count": null,
      "outputs": [
        {
          "output_type": "stream",
          "text": [
            "Epoch [40], val_loss: 9352.5869\n",
            "Epoch [80], val_loss: 9351.9873\n",
            "Epoch [120], val_loss: 9342.4570\n",
            "Epoch [160], val_loss: 9338.5264\n",
            "Epoch [200], val_loss: 9333.0781\n",
            "Epoch [240], val_loss: 9327.1201\n",
            "Epoch [280], val_loss: 9332.3408\n",
            "Epoch [320], val_loss: 9318.6758\n",
            "Epoch [360], val_loss: 9312.7705\n",
            "Epoch [400], val_loss: 9308.9639\n",
            "Epoch [440], val_loss: 9302.7471\n",
            "Epoch [480], val_loss: 9297.2666\n",
            "Epoch [500], val_loss: 9294.8096\n"
          ],
          "name": "stdout"
        }
      ]
    },
    {
      "cell_type": "code",
      "metadata": {
        "id": "-Y1R1QA5_hbS",
        "outputId": "4c1979fd-f3db-47b0-da2a-0378953611e5"
      },
      "source": [
        "epochs =1000 \n",
        "lr = 1e-1\n",
        "history9 = fit(epochs, lr, model, train_loader, val_loader)"
      ],
      "execution_count": null,
      "outputs": [
        {
          "output_type": "stream",
          "text": [
            "Epoch [40], val_loss: 9290.7998\n",
            "Epoch [80], val_loss: 9287.1982\n",
            "Epoch [120], val_loss: 9283.2354\n",
            "Epoch [160], val_loss: 9275.9404\n",
            "Epoch [200], val_loss: 9272.7949\n",
            "Epoch [240], val_loss: 9265.5693\n",
            "Epoch [280], val_loss: 9261.3994\n",
            "Epoch [320], val_loss: 9273.7764\n",
            "Epoch [360], val_loss: 9256.1895\n",
            "Epoch [400], val_loss: 9248.0205\n",
            "Epoch [440], val_loss: 9240.4717\n",
            "Epoch [480], val_loss: 9236.1777\n",
            "Epoch [520], val_loss: 9233.4463\n",
            "Epoch [560], val_loss: 9226.5635\n",
            "Epoch [600], val_loss: 9221.5088\n",
            "Epoch [640], val_loss: 9223.8682\n",
            "Epoch [680], val_loss: 9211.8662\n",
            "Epoch [720], val_loss: 9213.3486\n",
            "Epoch [760], val_loss: 9203.4375\n",
            "Epoch [800], val_loss: 9203.3330\n",
            "Epoch [840], val_loss: 9193.3086\n",
            "Epoch [880], val_loss: 9188.3135\n",
            "Epoch [920], val_loss: 9185.2344\n",
            "Epoch [960], val_loss: 9177.5752\n",
            "Epoch [1000], val_loss: 9176.6201\n"
          ],
          "name": "stdout"
        }
      ]
    },
    {
      "cell_type": "code",
      "metadata": {
        "id": "hfpp3_Vi_hbT",
        "outputId": "50773a29-b075-4d00-866f-d8e2ed33d6ef"
      },
      "source": [
        "epochs =500 \n",
        "lr = 5e-1\n",
        "history10 = fit(epochs, lr, model, train_loader, val_loader)"
      ],
      "execution_count": null,
      "outputs": [
        {
          "output_type": "stream",
          "text": [
            "Epoch [40], val_loss: 9361.7959\n",
            "Epoch [80], val_loss: 9245.8516\n",
            "Epoch [120], val_loss: 9098.5029\n",
            "Epoch [160], val_loss: 9082.7666\n",
            "Epoch [200], val_loss: 9054.8945\n",
            "Epoch [240], val_loss: 9040.5029\n",
            "Epoch [280], val_loss: 9030.3193\n",
            "Epoch [320], val_loss: 9014.8164\n",
            "Epoch [360], val_loss: 8989.2842\n",
            "Epoch [400], val_loss: 8957.3701\n",
            "Epoch [440], val_loss: 8927.1602\n",
            "Epoch [480], val_loss: 8912.8369\n",
            "Epoch [500], val_loss: 8922.5898\n"
          ],
          "name": "stdout"
        }
      ]
    },
    {
      "cell_type": "code",
      "metadata": {
        "id": "eomWRTQp_hbT",
        "outputId": "6dc24336-1bdd-46a8-b75b-32fa509667bd"
      },
      "source": [
        "epochs =1000 \n",
        "lr = 6e-1\n",
        "history11 = fit(epochs, lr, model, train_loader, val_loader)"
      ],
      "execution_count": null,
      "outputs": [
        {
          "output_type": "stream",
          "text": [
            "Epoch [40], val_loss: 8855.8193\n",
            "Epoch [80], val_loss: 9038.0068\n",
            "Epoch [120], val_loss: 8798.7432\n",
            "Epoch [160], val_loss: 8951.8213\n",
            "Epoch [200], val_loss: 8756.0420\n",
            "Epoch [240], val_loss: 8718.3350\n",
            "Epoch [280], val_loss: 8696.2354\n",
            "Epoch [320], val_loss: 8671.7490\n",
            "Epoch [360], val_loss: 8661.6318\n",
            "Epoch [400], val_loss: 8623.2773\n",
            "Epoch [440], val_loss: 8587.1611\n",
            "Epoch [480], val_loss: 8552.2334\n",
            "Epoch [520], val_loss: 8606.3115\n",
            "Epoch [560], val_loss: 8497.7822\n",
            "Epoch [600], val_loss: 8746.6279\n",
            "Epoch [640], val_loss: 8448.5576\n",
            "Epoch [680], val_loss: 8439.2803\n",
            "Epoch [720], val_loss: 8386.8389\n",
            "Epoch [760], val_loss: 8396.0938\n",
            "Epoch [800], val_loss: 8397.1689\n",
            "Epoch [840], val_loss: 8303.8135\n",
            "Epoch [880], val_loss: 8325.6016\n",
            "Epoch [920], val_loss: 8251.7334\n",
            "Epoch [960], val_loss: 8240.0479\n",
            "Epoch [1000], val_loss: 8235.1758\n"
          ],
          "name": "stdout"
        }
      ]
    },
    {
      "cell_type": "code",
      "metadata": {
        "id": "ZWE5wLBY_hbV",
        "outputId": "7a0046a9-a9fd-4852-e4ee-936a3f284e40"
      },
      "source": [
        "epochs =1000 \n",
        "lr = 5e-1\n",
        "history12 = fit(epochs, lr, model, train_loader, val_loader)"
      ],
      "execution_count": null,
      "outputs": [
        {
          "output_type": "stream",
          "text": [
            "Epoch [40], val_loss: 8176.1968\n",
            "Epoch [80], val_loss: 8178.0835\n",
            "Epoch [120], val_loss: 8132.1489\n",
            "Epoch [160], val_loss: 8143.4434\n",
            "Epoch [200], val_loss: 8091.0327\n",
            "Epoch [240], val_loss: 8076.8970\n",
            "Epoch [280], val_loss: 8047.4688\n",
            "Epoch [320], val_loss: 8021.5757\n",
            "Epoch [360], val_loss: 8039.5156\n",
            "Epoch [400], val_loss: 8019.0410\n",
            "Epoch [440], val_loss: 7944.7637\n",
            "Epoch [480], val_loss: 7923.2075\n",
            "Epoch [520], val_loss: 7907.2603\n",
            "Epoch [560], val_loss: 7879.4082\n",
            "Epoch [600], val_loss: 7859.1011\n",
            "Epoch [640], val_loss: 7838.7661\n",
            "Epoch [680], val_loss: 7818.1406\n",
            "Epoch [720], val_loss: 7791.2319\n",
            "Epoch [760], val_loss: 7770.0996\n",
            "Epoch [800], val_loss: 7759.1987\n",
            "Epoch [840], val_loss: 7793.8892\n",
            "Epoch [880], val_loss: 7707.3589\n",
            "Epoch [920], val_loss: 7693.9355\n",
            "Epoch [960], val_loss: 7679.1445\n",
            "Epoch [1000], val_loss: 7639.5327\n"
          ],
          "name": "stdout"
        }
      ]
    },
    {
      "cell_type": "code",
      "metadata": {
        "id": "c7hEPfHQ_hbV",
        "outputId": "c43fac85-8b31-4a79-8cbb-b5e49d155e52"
      },
      "source": [
        "epochs =5000 \n",
        "lr = 5e-1\n",
        "history13 = fit(epochs, lr, model, train_loader, val_loader)"
      ],
      "execution_count": null,
      "outputs": [
        {
          "output_type": "stream",
          "text": [
            "Epoch [40], val_loss: 7615.4038\n",
            "Epoch [80], val_loss: 7666.2593\n",
            "Epoch [120], val_loss: 7569.9819\n",
            "Epoch [160], val_loss: 7553.0962\n",
            "Epoch [200], val_loss: 7521.2637\n",
            "Epoch [240], val_loss: 7510.5884\n",
            "Epoch [280], val_loss: 7555.6216\n",
            "Epoch [320], val_loss: 7452.0054\n",
            "Epoch [360], val_loss: 7447.7051\n",
            "Epoch [400], val_loss: 7466.6704\n",
            "Epoch [440], val_loss: 7436.1548\n",
            "Epoch [480], val_loss: 7430.2007\n",
            "Epoch [520], val_loss: 7341.5728\n",
            "Epoch [560], val_loss: 7455.9609\n",
            "Epoch [600], val_loss: 7297.9961\n",
            "Epoch [640], val_loss: 7274.5161\n",
            "Epoch [680], val_loss: 7268.1934\n",
            "Epoch [720], val_loss: 7230.8345\n",
            "Epoch [760], val_loss: 7209.8120\n",
            "Epoch [800], val_loss: 7207.6895\n",
            "Epoch [840], val_loss: 7170.2476\n",
            "Epoch [880], val_loss: 7142.8374\n",
            "Epoch [920], val_loss: 7166.4409\n",
            "Epoch [960], val_loss: 7097.9243\n",
            "Epoch [1000], val_loss: 7081.7417\n",
            "Epoch [1040], val_loss: 7052.4414\n",
            "Epoch [1080], val_loss: 7031.0825\n",
            "Epoch [1120], val_loss: 7023.2363\n",
            "Epoch [1160], val_loss: 6989.4136\n",
            "Epoch [1200], val_loss: 7027.8496\n",
            "Epoch [1240], val_loss: 6947.9937\n",
            "Epoch [1280], val_loss: 6923.2485\n",
            "Epoch [1320], val_loss: 6903.0767\n",
            "Epoch [1360], val_loss: 6902.9707\n",
            "Epoch [1400], val_loss: 6850.3989\n",
            "Epoch [1440], val_loss: 6906.3276\n",
            "Epoch [1480], val_loss: 6812.9907\n",
            "Epoch [1520], val_loss: 6788.1616\n",
            "Epoch [1560], val_loss: 6803.7598\n",
            "Epoch [1600], val_loss: 6871.5317\n",
            "Epoch [1640], val_loss: 6717.7017\n",
            "Epoch [1680], val_loss: 6703.9746\n",
            "Epoch [1720], val_loss: 6679.0938\n",
            "Epoch [1760], val_loss: 6758.1616\n",
            "Epoch [1800], val_loss: 6654.7300\n",
            "Epoch [1840], val_loss: 6611.6851\n",
            "Epoch [1880], val_loss: 6644.9141\n",
            "Epoch [1920], val_loss: 6572.4565\n",
            "Epoch [1960], val_loss: 6623.0391\n",
            "Epoch [2000], val_loss: 6525.7622\n",
            "Epoch [2040], val_loss: 6530.2104\n",
            "Epoch [2080], val_loss: 6503.6250\n",
            "Epoch [2120], val_loss: 6498.3965\n",
            "Epoch [2160], val_loss: 6449.6157\n",
            "Epoch [2200], val_loss: 6532.0562\n",
            "Epoch [2240], val_loss: 6416.4927\n",
            "Epoch [2280], val_loss: 6387.6733\n",
            "Epoch [2320], val_loss: 6389.4946\n",
            "Epoch [2360], val_loss: 6392.0288\n",
            "Epoch [2400], val_loss: 6326.8296\n",
            "Epoch [2440], val_loss: 6310.8257\n",
            "Epoch [2480], val_loss: 6302.1108\n",
            "Epoch [2520], val_loss: 6386.9399\n",
            "Epoch [2560], val_loss: 6255.6411\n",
            "Epoch [2600], val_loss: 6247.5200\n",
            "Epoch [2640], val_loss: 6228.6484\n",
            "Epoch [2680], val_loss: 6196.2246\n",
            "Epoch [2720], val_loss: 6175.9531\n",
            "Epoch [2760], val_loss: 6193.3633\n",
            "Epoch [2800], val_loss: 6178.6602\n",
            "Epoch [2840], val_loss: 6124.4512\n",
            "Epoch [2880], val_loss: 6140.1035\n",
            "Epoch [2920], val_loss: 6114.1577\n",
            "Epoch [2960], val_loss: 6072.2681\n",
            "Epoch [3000], val_loss: 6093.4712\n",
            "Epoch [3040], val_loss: 6033.0776\n",
            "Epoch [3080], val_loss: 6021.8691\n",
            "Epoch [3120], val_loss: 6053.4907\n",
            "Epoch [3160], val_loss: 5987.9238\n",
            "Epoch [3200], val_loss: 6127.4067\n",
            "Epoch [3240], val_loss: 5960.7925\n",
            "Epoch [3280], val_loss: 5947.1206\n",
            "Epoch [3320], val_loss: 5912.2417\n",
            "Epoch [3360], val_loss: 5899.0132\n",
            "Epoch [3400], val_loss: 5889.4688\n",
            "Epoch [3440], val_loss: 5922.6987\n",
            "Epoch [3480], val_loss: 5865.0522\n",
            "Epoch [3520], val_loss: 5865.2808\n",
            "Epoch [3560], val_loss: 5823.4116\n",
            "Epoch [3600], val_loss: 5802.5200\n",
            "Epoch [3640], val_loss: 5795.8979\n",
            "Epoch [3680], val_loss: 5783.4321\n",
            "Epoch [3720], val_loss: 5765.6641\n",
            "Epoch [3760], val_loss: 5825.0405\n",
            "Epoch [3800], val_loss: 5760.1133\n",
            "Epoch [3840], val_loss: 5792.3853\n",
            "Epoch [3880], val_loss: 5712.5859\n",
            "Epoch [3920], val_loss: 5715.0117\n",
            "Epoch [3960], val_loss: 5681.8306\n",
            "Epoch [4000], val_loss: 5718.9907\n",
            "Epoch [4040], val_loss: 5668.2715\n",
            "Epoch [4080], val_loss: 5735.3730\n",
            "Epoch [4120], val_loss: 5729.5566\n",
            "Epoch [4160], val_loss: 5625.4517\n",
            "Epoch [4200], val_loss: 5637.1519\n",
            "Epoch [4240], val_loss: 5597.9810\n",
            "Epoch [4280], val_loss: 5585.5288\n",
            "Epoch [4320], val_loss: 5583.0757\n",
            "Epoch [4360], val_loss: 5581.8872\n",
            "Epoch [4400], val_loss: 5555.4858\n",
            "Epoch [4440], val_loss: 5544.8477\n",
            "Epoch [4480], val_loss: 5551.0742\n",
            "Epoch [4520], val_loss: 5567.2676\n",
            "Epoch [4560], val_loss: 5655.7544\n",
            "Epoch [4600], val_loss: 5539.0630\n",
            "Epoch [4640], val_loss: 5495.7407\n",
            "Epoch [4680], val_loss: 5527.2417\n",
            "Epoch [4720], val_loss: 5499.5454\n",
            "Epoch [4760], val_loss: 5469.4390\n",
            "Epoch [4800], val_loss: 5555.5903\n",
            "Epoch [4840], val_loss: 5502.0742\n",
            "Epoch [4880], val_loss: 5457.4409\n",
            "Epoch [4920], val_loss: 5494.4941\n",
            "Epoch [4960], val_loss: 5441.4756\n",
            "Epoch [5000], val_loss: 5598.2954\n"
          ],
          "name": "stdout"
        }
      ]
    },
    {
      "cell_type": "markdown",
      "metadata": {
        "id": "D0rQpy3Z_hbW"
      },
      "source": [
        "Final validation loss of the model:"
      ]
    },
    {
      "cell_type": "code",
      "metadata": {
        "id": "2Wiei5ve_hbW",
        "outputId": "627be1bc-bbb7-40a0-81ef-d7d7d63b0efc"
      },
      "source": [
        "history=history1+history2+history3+history4+history5+history6+history7+history8+history9+history10+history11+history12+history13\n",
        "val_loss = history[-1]\n",
        "print(val_loss)"
      ],
      "execution_count": null,
      "outputs": [
        {
          "output_type": "stream",
          "text": [
            "{'val_loss': 5598.29541015625}\n"
          ],
          "name": "stdout"
        }
      ]
    },
    {
      "cell_type": "markdown",
      "metadata": {
        "id": "Y8rWZHhX_hbY"
      },
      "source": [
        "Let's log the final validation loss to Jovian and commit the notebook"
      ]
    },
    {
      "cell_type": "code",
      "metadata": {
        "id": "-Oj0_4JP_hbZ",
        "outputId": "43c8449d-3fda-48f4-dce4-2ca800863d9c"
      },
      "source": [
        "jovian.log_metrics(val_loss=val_loss)"
      ],
      "execution_count": null,
      "outputs": [
        {
          "output_type": "stream",
          "text": [
            "[jovian] Metrics logged.\u001b[0m\n"
          ],
          "name": "stdout"
        }
      ]
    },
    {
      "cell_type": "code",
      "metadata": {
        "id": "prli7Unj_hba",
        "outputId": "b37f3ebe-ffe2-491b-e2b4-8a0602a74385"
      },
      "source": [
        "jovian.commit(project=project_name, environment=None)"
      ],
      "execution_count": null,
      "outputs": [
        {
          "output_type": "display_data",
          "data": {
            "application/javascript": [
              "window.require && require([\"base/js/namespace\"],function(Jupyter){Jupyter.notebook.save_checkpoint()})"
            ],
            "text/plain": [
              "<IPython.core.display.Javascript object>"
            ]
          },
          "metadata": {
            "tags": []
          }
        },
        {
          "output_type": "stream",
          "text": [
            "[jovian] Attempting to save notebook..\u001b[0m\n",
            "[jovian] Updating notebook \"aswiniabraham/02-insurance-linear-regression\" on https://jovian.ai/\u001b[0m\n",
            "[jovian] Uploading notebook..\u001b[0m\n",
            "[jovian] Attaching records (metrics, hyperparameters, dataset etc.)\u001b[0m\n",
            "[jovian] Committed successfully! https://jovian.ai/aswiniabraham/02-insurance-linear-regression\u001b[0m\n"
          ],
          "name": "stdout"
        },
        {
          "output_type": "execute_result",
          "data": {
            "text/plain": [
              "'https://jovian.ai/aswiniabraham/02-insurance-linear-regression'"
            ]
          },
          "metadata": {
            "tags": []
          },
          "execution_count": 266
        }
      ]
    },
    {
      "cell_type": "markdown",
      "metadata": {
        "id": "kQfFM0u-_hba"
      },
      "source": [
        "## Step 5: Make predictions using the trained model\n",
        "\n",
        "**Make predictions on a single input**"
      ]
    },
    {
      "cell_type": "code",
      "metadata": {
        "id": "Uuo7kIim_hbb"
      },
      "source": [
        "def predict_single(input, target, model):\n",
        "    inputs = input.unsqueeze(0)\n",
        "    predictions = model(inputs)                # fill this\n",
        "    prediction = predictions[0].detach()\n",
        "    print(\"Input:\", input)\n",
        "    print(\"Target:\", target)\n",
        "    print(\"Prediction:\", prediction)"
      ],
      "execution_count": null,
      "outputs": []
    },
    {
      "cell_type": "code",
      "metadata": {
        "id": "jURPM39h_hbb",
        "outputId": "1d1264ba-7de7-4d51-baaf-7af8e7e70c93"
      },
      "source": [
        "input, target = val_ds[0]\n",
        "predict_single(input, target, model)"
      ],
      "execution_count": null,
      "outputs": [
        {
          "output_type": "stream",
          "text": [
            "Input: tensor([20.0000,  0.0000, 33.3213,  0.0000,  0.0000])\n",
            "Target: tensor([2686.3955])\n",
            "Prediction: tensor([3004.3621])\n"
          ],
          "name": "stdout"
        }
      ]
    },
    {
      "cell_type": "code",
      "metadata": {
        "id": "8c95Terj_hbb",
        "outputId": "7e7e4351-2fce-4e42-b482-a65596a4ed03"
      },
      "source": [
        "input, target = val_ds[10]\n",
        "predict_single(input, target, model)"
      ],
      "execution_count": null,
      "outputs": [
        {
          "output_type": "stream",
          "text": [
            "Input: tensor([37.0000,  1.0000, 35.4200,  0.0000,  0.0000])\n",
            "Target: tensor([5529.6431])\n",
            "Prediction: tensor([7873.6797])\n"
          ],
          "name": "stdout"
        }
      ]
    },
    {
      "cell_type": "code",
      "metadata": {
        "id": "P1gssdkf_hbc",
        "outputId": "005d66d4-48bd-4e4a-8d08-bf31cc6f5409"
      },
      "source": [
        "input, target = val_ds[23]\n",
        "predict_single(input, target, model)"
      ],
      "execution_count": null,
      "outputs": [
        {
          "output_type": "stream",
          "text": [
            "Input: tensor([55.0000,  0.0000, 34.6610,  2.0000,  0.0000])\n",
            "Target: tensor([14139.5439])\n",
            "Prediction: tensor([14984.4580])\n"
          ],
          "name": "stdout"
        }
      ]
    },
    {
      "cell_type": "markdown",
      "metadata": {
        "id": "CfZyA5iyBZo9"
      },
      "source": [
        "## References:\n",
        "\n",
        "1. Zero to pandas course, Jovian (https://jovian.ai/learn/data-analysis-with-python-zero-to-pandas)"
      ]
    },
    {
      "cell_type": "code",
      "metadata": {
        "colab": {
          "base_uri": "https://localhost:8080/",
          "height": 88
        },
        "id": "4wujafJ6_hbf",
        "outputId": "8c72679e-c9af-4c77-d168-af8fb76f4367"
      },
      "source": [
        "jovian.commit(project=project_name, environment=None)"
      ],
      "execution_count": 5,
      "outputs": [
        {
          "output_type": "stream",
          "text": [
            "[jovian] Detected Colab notebook...\u001b[0m\n",
            "[jovian] Uploading colab notebook to Jovian...\u001b[0m\n",
            "[jovian] Committed successfully! https://jovian.ai/aswiniabraham/02-insurance-linear-regression\u001b[0m\n"
          ],
          "name": "stdout"
        },
        {
          "output_type": "execute_result",
          "data": {
            "application/vnd.google.colaboratory.intrinsic+json": {
              "type": "string"
            },
            "text/plain": [
              "'https://jovian.ai/aswiniabraham/02-insurance-linear-regression'"
            ]
          },
          "metadata": {
            "tags": []
          },
          "execution_count": 5
        }
      ]
    },
    {
      "cell_type": "code",
      "metadata": {
        "id": "ibHCudTI_hbg"
      },
      "source": [
        ""
      ],
      "execution_count": null,
      "outputs": []
    }
  ]
}